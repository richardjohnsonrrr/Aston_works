{
 "cells": [
  {
   "cell_type": "markdown",
   "id": "a9d8e138",
   "metadata": {},
   "source": [
    "# BIG DATA ASSIGNMENT ( Candidate No: 795823), Group 2"
   ]
  },
  {
   "cell_type": "markdown",
   "id": "1bb8fa04",
   "metadata": {},
   "source": [
    "## Business Objective and its context"
   ]
  },
  {
   "cell_type": "markdown",
   "id": "a5c5d2f7",
   "metadata": {},
   "source": [
    "This analysis aims to make a model which can predict the possibility of having a stroke from past data. The model will help to predict whether a patient is susceptible to a stroke or not based on variables such as their age, bmi etc. The analysis tried different modelling methods to find the best-suited model for this problem.\n"
   ]
  },
  {
   "cell_type": "code",
   "execution_count": 153,
   "id": "893fcf65",
   "metadata": {},
   "outputs": [],
   "source": [
    "import pandas as pd\n",
    "import numpy as np\n",
    "import matplotlib.pyplot as plt"
   ]
  },
  {
   "cell_type": "code",
   "execution_count": 80,
   "id": "8eed8c64",
   "metadata": {},
   "outputs": [
    {
     "data": {
      "text/html": [
       "<div>\n",
       "<style scoped>\n",
       "    .dataframe tbody tr th:only-of-type {\n",
       "        vertical-align: middle;\n",
       "    }\n",
       "\n",
       "    .dataframe tbody tr th {\n",
       "        vertical-align: top;\n",
       "    }\n",
       "\n",
       "    .dataframe thead th {\n",
       "        text-align: right;\n",
       "    }\n",
       "</style>\n",
       "<table border=\"1\" class=\"dataframe\">\n",
       "  <thead>\n",
       "    <tr style=\"text-align: right;\">\n",
       "      <th></th>\n",
       "      <th>age</th>\n",
       "      <th>hypertension</th>\n",
       "      <th>heart_disease</th>\n",
       "      <th>avg_glucose_level</th>\n",
       "      <th>bmi</th>\n",
       "      <th>Never_worked</th>\n",
       "      <th>Private</th>\n",
       "      <th>Self-employed</th>\n",
       "      <th>children</th>\n",
       "      <th>formerly smoked</th>\n",
       "      <th>never smoked</th>\n",
       "      <th>smokes</th>\n",
       "      <th>Male</th>\n",
       "      <th>Married</th>\n",
       "      <th>Urban</th>\n",
       "      <th>stroke</th>\n",
       "    </tr>\n",
       "  </thead>\n",
       "  <tbody>\n",
       "    <tr>\n",
       "      <th>0</th>\n",
       "      <td>-1.385505</td>\n",
       "      <td>-0.322618</td>\n",
       "      <td>-0.235153</td>\n",
       "      <td>0.695092</td>\n",
       "      <td>-0.994035</td>\n",
       "      <td>-0.068367</td>\n",
       "      <td>-1.149684</td>\n",
       "      <td>-0.435465</td>\n",
       "      <td>2.503379</td>\n",
       "      <td>-0.458729</td>\n",
       "      <td>-0.768338</td>\n",
       "      <td>-0.422662</td>\n",
       "      <td>-0.841895</td>\n",
       "      <td>-1.392927</td>\n",
       "      <td>0.987831</td>\n",
       "      <td>0</td>\n",
       "    </tr>\n",
       "    <tr>\n",
       "      <th>1</th>\n",
       "      <td>-0.276505</td>\n",
       "      <td>-0.322618</td>\n",
       "      <td>-0.235153</td>\n",
       "      <td>-0.219766</td>\n",
       "      <td>-0.492541</td>\n",
       "      <td>-0.068367</td>\n",
       "      <td>0.869804</td>\n",
       "      <td>-0.435465</td>\n",
       "      <td>-0.399460</td>\n",
       "      <td>-0.458729</td>\n",
       "      <td>-0.768338</td>\n",
       "      <td>2.365954</td>\n",
       "      <td>1.187797</td>\n",
       "      <td>-1.392927</td>\n",
       "      <td>0.987831</td>\n",
       "      <td>0</td>\n",
       "    </tr>\n",
       "    <tr>\n",
       "      <th>2</th>\n",
       "      <td>0.521975</td>\n",
       "      <td>-0.322618</td>\n",
       "      <td>-0.235153</td>\n",
       "      <td>-0.274716</td>\n",
       "      <td>0.467648</td>\n",
       "      <td>-0.068367</td>\n",
       "      <td>0.869804</td>\n",
       "      <td>-0.435465</td>\n",
       "      <td>-0.399460</td>\n",
       "      <td>-0.458729</td>\n",
       "      <td>1.301511</td>\n",
       "      <td>-0.422662</td>\n",
       "      <td>1.187797</td>\n",
       "      <td>0.717913</td>\n",
       "      <td>0.987831</td>\n",
       "      <td>0</td>\n",
       "    </tr>\n",
       "    <tr>\n",
       "      <th>3</th>\n",
       "      <td>0.034015</td>\n",
       "      <td>3.099644</td>\n",
       "      <td>-0.235153</td>\n",
       "      <td>1.807485</td>\n",
       "      <td>1.839076</td>\n",
       "      <td>-0.068367</td>\n",
       "      <td>-1.149684</td>\n",
       "      <td>2.296394</td>\n",
       "      <td>-0.399460</td>\n",
       "      <td>2.179934</td>\n",
       "      <td>-0.768338</td>\n",
       "      <td>-0.422662</td>\n",
       "      <td>1.187797</td>\n",
       "      <td>0.717913</td>\n",
       "      <td>-1.012319</td>\n",
       "      <td>0</td>\n",
       "    </tr>\n",
       "    <tr>\n",
       "      <th>4</th>\n",
       "      <td>1.497895</td>\n",
       "      <td>3.099644</td>\n",
       "      <td>-0.235153</td>\n",
       "      <td>-0.880076</td>\n",
       "      <td>0.625450</td>\n",
       "      <td>-0.068367</td>\n",
       "      <td>-1.149684</td>\n",
       "      <td>2.296394</td>\n",
       "      <td>-0.399460</td>\n",
       "      <td>-0.458729</td>\n",
       "      <td>1.301511</td>\n",
       "      <td>-0.422662</td>\n",
       "      <td>-0.841895</td>\n",
       "      <td>0.717913</td>\n",
       "      <td>0.987831</td>\n",
       "      <td>0</td>\n",
       "    </tr>\n",
       "  </tbody>\n",
       "</table>\n",
       "</div>"
      ],
      "text/plain": [
       "        age  hypertension  heart_disease  avg_glucose_level       bmi  \\\n",
       "0 -1.385505     -0.322618      -0.235153           0.695092 -0.994035   \n",
       "1 -0.276505     -0.322618      -0.235153          -0.219766 -0.492541   \n",
       "2  0.521975     -0.322618      -0.235153          -0.274716  0.467648   \n",
       "3  0.034015      3.099644      -0.235153           1.807485  1.839076   \n",
       "4  1.497895      3.099644      -0.235153          -0.880076  0.625450   \n",
       "\n",
       "   Never_worked   Private  Self-employed  children  formerly smoked  \\\n",
       "0     -0.068367 -1.149684      -0.435465  2.503379        -0.458729   \n",
       "1     -0.068367  0.869804      -0.435465 -0.399460        -0.458729   \n",
       "2     -0.068367  0.869804      -0.435465 -0.399460        -0.458729   \n",
       "3     -0.068367 -1.149684       2.296394 -0.399460         2.179934   \n",
       "4     -0.068367 -1.149684       2.296394 -0.399460        -0.458729   \n",
       "\n",
       "   never smoked    smokes      Male   Married     Urban  stroke  \n",
       "0     -0.768338 -0.422662 -0.841895 -1.392927  0.987831       0  \n",
       "1     -0.768338  2.365954  1.187797 -1.392927  0.987831       0  \n",
       "2      1.301511 -0.422662  1.187797  0.717913  0.987831       0  \n",
       "3     -0.768338 -0.422662  1.187797  0.717913 -1.012319       0  \n",
       "4      1.301511 -0.422662 -0.841895  0.717913  0.987831       0  "
      ]
     },
     "execution_count": 80,
     "metadata": {},
     "output_type": "execute_result"
    }
   ],
   "source": [
    "# Reading the dataset \n",
    "trainset = pd.read_csv(\"trainset.csv\")\n",
    "\n",
    "# removing the unnecessery column\n",
    "trainset = trainset.drop('Unnamed: 0', axis = 1)\n",
    "# renaming 'yes' column to 'married' column\n",
    "trainset = trainset.rename(columns = {'Yes': 'Married'})\n",
    "trainset.head()"
   ]
  },
  {
   "cell_type": "code",
   "execution_count": 81,
   "id": "55c931c4",
   "metadata": {},
   "outputs": [],
   "source": [
    "# loading test data\n",
    "testset = pd.read_csv(\"testset.csv\")\n",
    "\n",
    "# Removing unnecessery column\n",
    "testset = testset.drop('Unnamed: 0', axis = 1)"
   ]
  },
  {
   "cell_type": "markdown",
   "id": "01b7658f",
   "metadata": {},
   "source": [
    "### Train Models"
   ]
  },
  {
   "cell_type": "code",
   "execution_count": 82,
   "id": "f0f37eb8",
   "metadata": {},
   "outputs": [],
   "source": [
    "# importing libraries and functions need \n",
    "\n",
    "# Importing gridserachcv for finding the best hyperparametes\n",
    "from sklearn.model_selection import GridSearchCV\n",
    "\n",
    "# Importing time to calcuate the time taken to run each model\n",
    "import time"
   ]
  },
  {
   "cell_type": "code",
   "execution_count": 83,
   "id": "bcb7152c",
   "metadata": {},
   "outputs": [],
   "source": [
    "# seperating the array of predictors and targets\n",
    "\n",
    "\n",
    "# drop stroke variabe for training set, but keep all others for thr array of predictors\n",
    "Xtrain = trainset.drop('stroke', axis=1)\n",
    "\n",
    "# Creating array of target by seperating the stroke column\n",
    "ytrain = trainset['stroke'].copy()"
   ]
  },
  {
   "cell_type": "markdown",
   "id": "1babe48f",
   "metadata": {},
   "source": [
    "### Baseline model"
   ]
  },
  {
   "cell_type": "markdown",
   "id": "a595139d",
   "metadata": {},
   "source": [
    "The baseline method used is the majority class classifier. The majority class is used as the prediction result for all the predictions. That is we predict all the data as majority class. "
   ]
  },
  {
   "cell_type": "code",
   "execution_count": 84,
   "id": "63b1dd31",
   "metadata": {},
   "outputs": [
    {
     "data": {
      "text/plain": [
       "0    3885\n",
       "1     199\n",
       "Name: stroke, dtype: int64"
      ]
     },
     "execution_count": 84,
     "metadata": {},
     "output_type": "execute_result"
    }
   ],
   "source": [
    "# finding the number of instances belonging to each class\n",
    "trainset['stroke'].value_counts()"
   ]
  },
  {
   "cell_type": "markdown",
   "id": "ecff39a8",
   "metadata": {},
   "source": [
    "Here 0 represents no stroke and 1 represents stroke. So there are 3885 cases of no stroke and only 199 cases of stroke. Cases with no stroke are the majority class. "
   ]
  },
  {
   "cell_type": "code",
   "execution_count": 85,
   "id": "c4acf803",
   "metadata": {},
   "outputs": [
    {
     "data": {
      "text/plain": [
       "4084"
      ]
     },
     "execution_count": 85,
     "metadata": {},
     "output_type": "execute_result"
    }
   ],
   "source": [
    "# total size of the training set\n",
    "trainset.shape[0]"
   ]
  },
  {
   "cell_type": "markdown",
   "id": "1d5b8ae8",
   "metadata": {},
   "source": [
    "The baseline method will give the output as 0 (no stroke) in every case. This project uses Macro-averaging to find the accuracy measures. ( For macro-averaging, precision, recall and F-score are evaluated in each class separately and then averaged across classes)\n",
    "\n",
    "\n",
    "\n",
    "\n",
    "For cases with no stroke (stroke = 0), accuracy measures will be :\n",
    "* Precision: 3885/4084 = 0.951\n",
    "\n",
    "* Recall: 3885/3885 = 1.0\n",
    "\n",
    "* F-score: 2/(1/precision + 1/recall) = 0.975\n",
    "\n",
    "For cases with stroke (stroke = 1), accuracy measures will be :\n",
    "* Precision: 0.0/4088 = 0.0\n",
    "\n",
    "* Recall: 0.0/199 = 0.0\n",
    "\n",
    "* F-score: 0.0\n",
    "\n",
    "Overall baseline scores = average of both the cases\n",
    "* **Precision: 0.475**\n",
    "\n",
    "* **Recall: 0.5**\n",
    "\n",
    "* **F-score: 0.487**"
   ]
  },
  {
   "cell_type": "markdown",
   "id": "64763e59",
   "metadata": {},
   "source": [
    "### Model 1.    Random Forest"
   ]
  },
  {
   "cell_type": "code",
   "execution_count": 86,
   "id": "36638532",
   "metadata": {},
   "outputs": [
    {
     "name": "stdout",
     "output_type": "stream",
     "text": [
      "Took 18.366169691085815 seconds\n"
     ]
    }
   ],
   "source": [
    "# importing random forest algorithm \n",
    "from sklearn.ensemble import RandomForestClassifier\n",
    "\n",
    "rf = RandomForestClassifier()\n",
    "\n",
    "# specify the hyperparameters and their values\n",
    "# 3 x 3 x 3 x 2 = 54 combinations in the grid\n",
    "# The parameters were selected after trial and error to give the best f-score\n",
    "param_grid = {\n",
    "    'n_estimators': [10,30,50],\n",
    "    'max_depth' : [3,5, None],\n",
    "    'min_samples_split': [2, 5, 10],\n",
    "    'random_state': [0,1]\n",
    "}\n",
    "\n",
    "# we'll use 5-fold cross-validation\n",
    "rf_grid_search = GridSearchCV(rf, param_grid, cv=5,\n",
    "                           scoring='f1_macro', \n",
    "                           return_train_score=True) \n",
    "\n",
    "# running the model and recording the time\n",
    "start = time.time()\n",
    "rf_grid_search.fit(Xtrain, ytrain)\n",
    "end = time.time() - start\n",
    "print(f\"Took {end} seconds\")"
   ]
  },
  {
   "cell_type": "code",
   "execution_count": 87,
   "id": "edc2240e",
   "metadata": {},
   "outputs": [
    {
     "data": {
      "text/plain": [
       "RandomForestClassifier(min_samples_split=5, n_estimators=10, random_state=1)"
      ]
     },
     "execution_count": 87,
     "metadata": {},
     "output_type": "execute_result"
    }
   ],
   "source": [
    "rf_grid_search.best_estimator_"
   ]
  },
  {
   "cell_type": "markdown",
   "id": "ad3469d3",
   "metadata": {},
   "source": [
    "The best set of combinations of parameters are : min_samples_split=5, n_estimators=10, random_state=1 and max_depth = None. "
   ]
  },
  {
   "cell_type": "code",
   "execution_count": 88,
   "id": "035f13a9",
   "metadata": {},
   "outputs": [
    {
     "data": {
      "text/plain": [
       "0.505961623213761"
      ]
     },
     "execution_count": 88,
     "metadata": {},
     "output_type": "execute_result"
    }
   ],
   "source": [
    "rf_grid_search.best_score_"
   ]
  },
  {
   "cell_type": "markdown",
   "id": "6796ecfa",
   "metadata": {},
   "source": [
    "The F- score obtained for random forest modelling with the best parameters mentioned above is 0.506."
   ]
  },
  {
   "cell_type": "code",
   "execution_count": 109,
   "id": "97931389",
   "metadata": {},
   "outputs": [
    {
     "data": {
      "text/plain": [
       "43"
      ]
     },
     "execution_count": 109,
     "metadata": {},
     "output_type": "execute_result"
    }
   ],
   "source": [
    "# finding the index of the best performing model\n",
    "rf_grid_search.cv_results_[\"rank_test_score\"].tolist().index(1)"
   ]
  },
  {
   "cell_type": "code",
   "execution_count": 116,
   "id": "c92de015",
   "metadata": {},
   "outputs": [],
   "source": [
    "# storing the split score results for the best performing model\n",
    "rf_split_test_scores = []\n",
    "for x in range(5):\n",
    "    # extract f-score of the best model (index=43) from each of the 5 splits\n",
    "    val = rf_grid_search.cv_results_[f\"split{x}_test_score\"][43]\n",
    "    rf_split_test_scores.append(val)"
   ]
  },
  {
   "cell_type": "code",
   "execution_count": 117,
   "id": "24d5f8df",
   "metadata": {},
   "outputs": [
    {
     "data": {
      "text/plain": [
       "[0.48680904522613067,\n",
       " 0.48584015103838896,\n",
       " 0.5121491892885031,\n",
       " 0.5328759291023443,\n",
       " 0.5121338014134383]"
      ]
     },
     "execution_count": 117,
     "metadata": {},
     "output_type": "execute_result"
    }
   ],
   "source": [
    "rf_split_test_scores"
   ]
  },
  {
   "cell_type": "code",
   "execution_count": 89,
   "id": "e4282b78",
   "metadata": {},
   "outputs": [
    {
     "name": "stdout",
     "output_type": "stream",
     "text": [
      "0.505961623213761 0.7968568424045492 {'max_depth': None, 'min_samples_split': 5, 'n_estimators': 10, 'random_state': 1}\n",
      "0.5006714796576008 0.9328499394550928 {'max_depth': None, 'min_samples_split': 2, 'n_estimators': 10, 'random_state': 0}\n",
      "0.4962534364965833 0.987835209160781 {'max_depth': None, 'min_samples_split': 2, 'n_estimators': 30, 'random_state': 1}\n",
      "0.49232469426558706 0.7777867954901143 {'max_depth': None, 'min_samples_split': 5, 'n_estimators': 30, 'random_state': 1}\n",
      "0.4922603443532904 0.7607124516801786 {'max_depth': None, 'min_samples_split': 5, 'n_estimators': 50, 'random_state': 1}\n",
      "0.4920025383113904 0.9986758198158695 {'max_depth': None, 'min_samples_split': 2, 'n_estimators': 50, 'random_state': 0}\n",
      "0.49177589301984437 0.9916190259367521 {'max_depth': None, 'min_samples_split': 2, 'n_estimators': 30, 'random_state': 0}\n",
      "0.48751414792288406 0.536822098091562 {'max_depth': None, 'min_samples_split': 10, 'n_estimators': 50, 'random_state': 1}\n",
      "0.48751414792288406 0.5274331474499065 {'max_depth': None, 'min_samples_split': 10, 'n_estimators': 50, 'random_state': 0}\n",
      "0.48751414792288406 0.5000362827234257 {'max_depth': 5, 'min_samples_split': 5, 'n_estimators': 10, 'random_state': 0}\n",
      "0.48751414792288406 0.49880912204538036 {'max_depth': 5, 'min_samples_split': 2, 'n_estimators': 10, 'random_state': 0}\n",
      "0.48751414792288406 0.49131001144308506 {'max_depth': 5, 'min_samples_split': 5, 'n_estimators': 30, 'random_state': 0}\n",
      "0.48751414792288406 0.49130224266948563 {'max_depth': 5, 'min_samples_split': 2, 'n_estimators': 50, 'random_state': 0}\n",
      "0.48751414792288406 0.49004471400311755 {'max_depth': 5, 'min_samples_split': 2, 'n_estimators': 10, 'random_state': 1}\n",
      "0.48751414792288406 0.490036945229518 {'max_depth': 5, 'min_samples_split': 5, 'n_estimators': 50, 'random_state': 1}\n",
      "0.48751414792288406 0.490036945229518 {'max_depth': 5, 'min_samples_split': 5, 'n_estimators': 50, 'random_state': 0}\n",
      "0.48751414792288406 0.490036945229518 {'max_depth': 5, 'min_samples_split': 10, 'n_estimators': 50, 'random_state': 0}\n",
      "0.48751414792288406 0.490036945229518 {'max_depth': 5, 'min_samples_split': 10, 'n_estimators': 30, 'random_state': 0}\n",
      "0.48751414792288406 0.490036945229518 {'max_depth': 5, 'min_samples_split': 10, 'n_estimators': 10, 'random_state': 0}\n",
      "0.48751414792288406 0.4887794165631501 {'max_depth': 5, 'min_samples_split': 5, 'n_estimators': 10, 'random_state': 1}\n",
      "0.48751414792288406 0.4887794165631501 {'max_depth': 5, 'min_samples_split': 2, 'n_estimators': 30, 'random_state': 0}\n",
      "0.48751414792288406 0.48877941656315 {'max_depth': 5, 'min_samples_split': 5, 'n_estimators': 30, 'random_state': 1}\n",
      "0.48751414792288406 0.48877941656315 {'max_depth': 5, 'min_samples_split': 2, 'n_estimators': 50, 'random_state': 1}\n",
      "0.48751414792288406 0.48877941656315 {'max_depth': 5, 'min_samples_split': 2, 'n_estimators': 30, 'random_state': 1}\n",
      "0.48751414792288406 0.48751411912318254 {'max_depth': 5, 'min_samples_split': 10, 'n_estimators': 50, 'random_state': 1}\n",
      "0.48751414792288406 0.48751411912318254 {'max_depth': 5, 'min_samples_split': 10, 'n_estimators': 30, 'random_state': 1}\n",
      "0.48751414792288406 0.48751411912318254 {'max_depth': 5, 'min_samples_split': 10, 'n_estimators': 10, 'random_state': 1}\n",
      "0.48751414792288406 0.48751411912318254 {'max_depth': 3, 'min_samples_split': 5, 'n_estimators': 50, 'random_state': 1}\n",
      "0.48751414792288406 0.48751411912318254 {'max_depth': 3, 'min_samples_split': 5, 'n_estimators': 50, 'random_state': 0}\n",
      "0.48751414792288406 0.48751411912318254 {'max_depth': 3, 'min_samples_split': 5, 'n_estimators': 30, 'random_state': 1}\n",
      "0.48751414792288406 0.48751411912318254 {'max_depth': 3, 'min_samples_split': 5, 'n_estimators': 30, 'random_state': 0}\n",
      "0.48751414792288406 0.48751411912318254 {'max_depth': 3, 'min_samples_split': 5, 'n_estimators': 10, 'random_state': 1}\n",
      "0.48751414792288406 0.48751411912318254 {'max_depth': 3, 'min_samples_split': 5, 'n_estimators': 10, 'random_state': 0}\n",
      "0.48751414792288406 0.48751411912318254 {'max_depth': 3, 'min_samples_split': 2, 'n_estimators': 50, 'random_state': 1}\n",
      "0.48751414792288406 0.48751411912318254 {'max_depth': 3, 'min_samples_split': 2, 'n_estimators': 50, 'random_state': 0}\n",
      "0.48751414792288406 0.48751411912318254 {'max_depth': 3, 'min_samples_split': 2, 'n_estimators': 30, 'random_state': 1}\n",
      "0.48751414792288406 0.48751411912318254 {'max_depth': 3, 'min_samples_split': 2, 'n_estimators': 30, 'random_state': 0}\n",
      "0.48751414792288406 0.48751411912318254 {'max_depth': 3, 'min_samples_split': 2, 'n_estimators': 10, 'random_state': 1}\n",
      "0.48751414792288406 0.48751411912318254 {'max_depth': 3, 'min_samples_split': 2, 'n_estimators': 10, 'random_state': 0}\n",
      "0.48751414792288406 0.48751411912318254 {'max_depth': 3, 'min_samples_split': 10, 'n_estimators': 50, 'random_state': 1}\n",
      "0.48751414792288406 0.48751411912318254 {'max_depth': 3, 'min_samples_split': 10, 'n_estimators': 50, 'random_state': 0}\n",
      "0.48751414792288406 0.48751411912318254 {'max_depth': 3, 'min_samples_split': 10, 'n_estimators': 30, 'random_state': 1}\n",
      "0.48751414792288406 0.48751411912318254 {'max_depth': 3, 'min_samples_split': 10, 'n_estimators': 30, 'random_state': 0}\n",
      "0.48751414792288406 0.48751411912318254 {'max_depth': 3, 'min_samples_split': 10, 'n_estimators': 10, 'random_state': 1}\n",
      "0.48751414792288406 0.48751411912318254 {'max_depth': 3, 'min_samples_split': 10, 'n_estimators': 10, 'random_state': 0}\n",
      "0.48744979801058735 0.549282295304016 {'max_depth': None, 'min_samples_split': 10, 'n_estimators': 30, 'random_state': 1}\n",
      "0.487449796031601 0.531123196756781 {'max_depth': None, 'min_samples_split': 10, 'n_estimators': 30, 'random_state': 0}\n",
      "0.48738544611930423 0.74948491316797 {'max_depth': None, 'min_samples_split': 5, 'n_estimators': 30, 'random_state': 0}\n",
      "0.48738544611930423 0.7429192484614054 {'max_depth': None, 'min_samples_split': 5, 'n_estimators': 50, 'random_state': 0}\n",
      "0.48738536324541987 0.5877856170645177 {'max_depth': None, 'min_samples_split': 10, 'n_estimators': 10, 'random_state': 0}\n",
      "0.48725666545311264 0.5855168211627648 {'max_depth': None, 'min_samples_split': 10, 'n_estimators': 10, 'random_state': 1}\n",
      "0.4869987801442105 0.7792775735391848 {'max_depth': None, 'min_samples_split': 5, 'n_estimators': 10, 'random_state': 0}\n",
      "0.4869345903405143 0.9963350868459031 {'max_depth': None, 'min_samples_split': 2, 'n_estimators': 50, 'random_state': 1}\n",
      "0.48635332840327966 0.9537987652106695 {'max_depth': None, 'min_samples_split': 2, 'n_estimators': 10, 'random_state': 1}\n"
     ]
    }
   ],
   "source": [
    "val_scores = rf_grid_search.cv_results_[\"mean_test_score\"]\n",
    "train_scores = rf_grid_search.cv_results_[\"mean_train_score\"]\n",
    "params = [str(x) for x in rf_grid_search.cv_results_[\"params\"]]\n",
    "\n",
    "for val_score, train_score, param in sorted(zip(val_scores, train_scores, params), reverse=True):\n",
    "    print(val_score, train_score, param)"
   ]
  },
  {
   "cell_type": "markdown",
   "id": "52b4c266",
   "metadata": {},
   "source": [
    "We can see the f-scores of all the models ran through the gridsearchcv. The performance doesn't show much variation between the models. There is some evidence of overfitting when the max_depth is set to None. The performance of these models on the training set is much higher than that of the Validation set."
   ]
  },
  {
   "cell_type": "code",
   "execution_count": 90,
   "id": "271f8bc0",
   "metadata": {},
   "outputs": [
    {
     "name": "stdout",
     "output_type": "stream",
     "text": [
      "age: 0.27656226647936705\n",
      "avg_glucose_level: 0.2742036457832168\n",
      "bmi: 0.22951626172972714\n",
      "Urban: 0.037164256198004085\n",
      "Male: 0.030689334612303103\n",
      "Married: 0.02466023235494704\n",
      "hypertension: 0.02263196339003182\n",
      "heart_disease: 0.020932840030256267\n",
      "Private: 0.019274389688860593\n",
      "smokes: 0.019201224100172387\n",
      "never smoked: 0.01618473002040289\n",
      "Self-employed: 0.014429481525626788\n",
      "formerly smoked: 0.01125781570967362\n",
      "children: 0.003255246498380897\n",
      "Never_worked: 3.631187902937319e-05\n"
     ]
    }
   ],
   "source": [
    "# put them into a separate variable for convenience\n",
    "feature_importances = rf_grid_search.best_estimator_.feature_importances_\n",
    "\n",
    "# the order of the features in `feature_importances` is the same as in the Xtrain dataframe,\n",
    "# so we can \"zip\" the two and print in the descending order:\n",
    "\n",
    "for k, v in sorted(zip(feature_importances, Xtrain.columns), reverse=True):\n",
    "    print(f\"{v}: {k}\")"
   ]
  },
  {
   "cell_type": "markdown",
   "id": "1f743420",
   "metadata": {},
   "source": [
    "Age, average glucose level and bmi are shown as the most important features for predicting stroke. This is expected as the medical condition depends on the physical factors of the person. The employment status has the least effect on the target variable"
   ]
  },
  {
   "cell_type": "code",
   "execution_count": 148,
   "id": "7121f65c",
   "metadata": {},
   "outputs": [
    {
     "data": {
      "text/plain": [
       "['models/rf-stroke.joblib']"
      ]
     },
     "execution_count": 148,
     "metadata": {},
     "output_type": "execute_result"
    }
   ],
   "source": [
    "# Saving the trained model to reuse it\n",
    "\n",
    "import os\n",
    "from joblib import dump\n",
    "\n",
    "# create a folder where all trained models will be kept\n",
    "if not os.path.exists(\"models\"):\n",
    "    os.makedirs(\"models\")\n",
    "    \n",
    "dump(rf_grid_search.best_estimator_, 'models/rf-stroke.joblib')"
   ]
  },
  {
   "cell_type": "markdown",
   "id": "46d89b03",
   "metadata": {},
   "source": [
    "###  Model 2. Support Vector Machines"
   ]
  },
  {
   "cell_type": "markdown",
   "id": "ef479817",
   "metadata": {},
   "source": [
    "#### Linear SVM"
   ]
  },
  {
   "cell_type": "code",
   "execution_count": 99,
   "id": "fcc9a3fd",
   "metadata": {},
   "outputs": [
    {
     "name": "stderr",
     "output_type": "stream",
     "text": [
      "C:\\Users\\richa\\anaconda3\\lib\\site-packages\\sklearn\\svm\\_base.py:985: ConvergenceWarning: Liblinear failed to converge, increase the number of iterations.\n",
      "  warnings.warn(\"Liblinear failed to converge, increase \"\n",
      "C:\\Users\\richa\\anaconda3\\lib\\site-packages\\sklearn\\svm\\_base.py:985: ConvergenceWarning: Liblinear failed to converge, increase the number of iterations.\n",
      "  warnings.warn(\"Liblinear failed to converge, increase \"\n",
      "C:\\Users\\richa\\anaconda3\\lib\\site-packages\\sklearn\\svm\\_base.py:985: ConvergenceWarning: Liblinear failed to converge, increase the number of iterations.\n",
      "  warnings.warn(\"Liblinear failed to converge, increase \"\n",
      "C:\\Users\\richa\\anaconda3\\lib\\site-packages\\sklearn\\svm\\_base.py:985: ConvergenceWarning: Liblinear failed to converge, increase the number of iterations.\n",
      "  warnings.warn(\"Liblinear failed to converge, increase \"\n",
      "C:\\Users\\richa\\anaconda3\\lib\\site-packages\\sklearn\\svm\\_base.py:985: ConvergenceWarning: Liblinear failed to converge, increase the number of iterations.\n",
      "  warnings.warn(\"Liblinear failed to converge, increase \"\n",
      "C:\\Users\\richa\\anaconda3\\lib\\site-packages\\sklearn\\svm\\_base.py:985: ConvergenceWarning: Liblinear failed to converge, increase the number of iterations.\n",
      "  warnings.warn(\"Liblinear failed to converge, increase \"\n",
      "C:\\Users\\richa\\anaconda3\\lib\\site-packages\\sklearn\\svm\\_base.py:985: ConvergenceWarning: Liblinear failed to converge, increase the number of iterations.\n",
      "  warnings.warn(\"Liblinear failed to converge, increase \"\n",
      "C:\\Users\\richa\\anaconda3\\lib\\site-packages\\sklearn\\svm\\_base.py:985: ConvergenceWarning: Liblinear failed to converge, increase the number of iterations.\n",
      "  warnings.warn(\"Liblinear failed to converge, increase \"\n",
      "C:\\Users\\richa\\anaconda3\\lib\\site-packages\\sklearn\\svm\\_base.py:985: ConvergenceWarning: Liblinear failed to converge, increase the number of iterations.\n",
      "  warnings.warn(\"Liblinear failed to converge, increase \"\n",
      "C:\\Users\\richa\\anaconda3\\lib\\site-packages\\sklearn\\svm\\_base.py:985: ConvergenceWarning: Liblinear failed to converge, increase the number of iterations.\n",
      "  warnings.warn(\"Liblinear failed to converge, increase \"\n",
      "C:\\Users\\richa\\anaconda3\\lib\\site-packages\\sklearn\\svm\\_base.py:985: ConvergenceWarning: Liblinear failed to converge, increase the number of iterations.\n",
      "  warnings.warn(\"Liblinear failed to converge, increase \"\n",
      "C:\\Users\\richa\\anaconda3\\lib\\site-packages\\sklearn\\svm\\_base.py:985: ConvergenceWarning: Liblinear failed to converge, increase the number of iterations.\n",
      "  warnings.warn(\"Liblinear failed to converge, increase \"\n",
      "C:\\Users\\richa\\anaconda3\\lib\\site-packages\\sklearn\\svm\\_base.py:985: ConvergenceWarning: Liblinear failed to converge, increase the number of iterations.\n",
      "  warnings.warn(\"Liblinear failed to converge, increase \"\n",
      "C:\\Users\\richa\\anaconda3\\lib\\site-packages\\sklearn\\svm\\_base.py:985: ConvergenceWarning: Liblinear failed to converge, increase the number of iterations.\n",
      "  warnings.warn(\"Liblinear failed to converge, increase \"\n",
      "C:\\Users\\richa\\anaconda3\\lib\\site-packages\\sklearn\\svm\\_base.py:985: ConvergenceWarning: Liblinear failed to converge, increase the number of iterations.\n",
      "  warnings.warn(\"Liblinear failed to converge, increase \"\n",
      "C:\\Users\\richa\\anaconda3\\lib\\site-packages\\sklearn\\svm\\_base.py:985: ConvergenceWarning: Liblinear failed to converge, increase the number of iterations.\n",
      "  warnings.warn(\"Liblinear failed to converge, increase \"\n",
      "C:\\Users\\richa\\anaconda3\\lib\\site-packages\\sklearn\\svm\\_base.py:985: ConvergenceWarning: Liblinear failed to converge, increase the number of iterations.\n",
      "  warnings.warn(\"Liblinear failed to converge, increase \"\n",
      "C:\\Users\\richa\\anaconda3\\lib\\site-packages\\sklearn\\svm\\_base.py:985: ConvergenceWarning: Liblinear failed to converge, increase the number of iterations.\n",
      "  warnings.warn(\"Liblinear failed to converge, increase \"\n",
      "C:\\Users\\richa\\anaconda3\\lib\\site-packages\\sklearn\\svm\\_base.py:985: ConvergenceWarning: Liblinear failed to converge, increase the number of iterations.\n",
      "  warnings.warn(\"Liblinear failed to converge, increase \"\n",
      "C:\\Users\\richa\\anaconda3\\lib\\site-packages\\sklearn\\svm\\_base.py:985: ConvergenceWarning: Liblinear failed to converge, increase the number of iterations.\n",
      "  warnings.warn(\"Liblinear failed to converge, increase \"\n",
      "C:\\Users\\richa\\anaconda3\\lib\\site-packages\\sklearn\\svm\\_base.py:985: ConvergenceWarning: Liblinear failed to converge, increase the number of iterations.\n",
      "  warnings.warn(\"Liblinear failed to converge, increase \"\n",
      "C:\\Users\\richa\\anaconda3\\lib\\site-packages\\sklearn\\svm\\_base.py:985: ConvergenceWarning: Liblinear failed to converge, increase the number of iterations.\n",
      "  warnings.warn(\"Liblinear failed to converge, increase \"\n",
      "C:\\Users\\richa\\anaconda3\\lib\\site-packages\\sklearn\\svm\\_base.py:985: ConvergenceWarning: Liblinear failed to converge, increase the number of iterations.\n",
      "  warnings.warn(\"Liblinear failed to converge, increase \"\n",
      "C:\\Users\\richa\\anaconda3\\lib\\site-packages\\sklearn\\svm\\_base.py:985: ConvergenceWarning: Liblinear failed to converge, increase the number of iterations.\n",
      "  warnings.warn(\"Liblinear failed to converge, increase \"\n",
      "C:\\Users\\richa\\anaconda3\\lib\\site-packages\\sklearn\\svm\\_base.py:985: ConvergenceWarning: Liblinear failed to converge, increase the number of iterations.\n",
      "  warnings.warn(\"Liblinear failed to converge, increase \"\n",
      "C:\\Users\\richa\\anaconda3\\lib\\site-packages\\sklearn\\svm\\_base.py:985: ConvergenceWarning: Liblinear failed to converge, increase the number of iterations.\n",
      "  warnings.warn(\"Liblinear failed to converge, increase \"\n",
      "C:\\Users\\richa\\anaconda3\\lib\\site-packages\\sklearn\\svm\\_base.py:985: ConvergenceWarning: Liblinear failed to converge, increase the number of iterations.\n",
      "  warnings.warn(\"Liblinear failed to converge, increase \"\n",
      "C:\\Users\\richa\\anaconda3\\lib\\site-packages\\sklearn\\svm\\_base.py:985: ConvergenceWarning: Liblinear failed to converge, increase the number of iterations.\n",
      "  warnings.warn(\"Liblinear failed to converge, increase \"\n",
      "C:\\Users\\richa\\anaconda3\\lib\\site-packages\\sklearn\\svm\\_base.py:985: ConvergenceWarning: Liblinear failed to converge, increase the number of iterations.\n",
      "  warnings.warn(\"Liblinear failed to converge, increase \"\n",
      "C:\\Users\\richa\\anaconda3\\lib\\site-packages\\sklearn\\svm\\_base.py:985: ConvergenceWarning: Liblinear failed to converge, increase the number of iterations.\n",
      "  warnings.warn(\"Liblinear failed to converge, increase \"\n",
      "C:\\Users\\richa\\anaconda3\\lib\\site-packages\\sklearn\\svm\\_base.py:985: ConvergenceWarning: Liblinear failed to converge, increase the number of iterations.\n",
      "  warnings.warn(\"Liblinear failed to converge, increase \"\n",
      "C:\\Users\\richa\\anaconda3\\lib\\site-packages\\sklearn\\svm\\_base.py:985: ConvergenceWarning: Liblinear failed to converge, increase the number of iterations.\n",
      "  warnings.warn(\"Liblinear failed to converge, increase \"\n",
      "C:\\Users\\richa\\anaconda3\\lib\\site-packages\\sklearn\\svm\\_base.py:985: ConvergenceWarning: Liblinear failed to converge, increase the number of iterations.\n",
      "  warnings.warn(\"Liblinear failed to converge, increase \"\n",
      "C:\\Users\\richa\\anaconda3\\lib\\site-packages\\sklearn\\svm\\_base.py:985: ConvergenceWarning: Liblinear failed to converge, increase the number of iterations.\n",
      "  warnings.warn(\"Liblinear failed to converge, increase \"\n",
      "C:\\Users\\richa\\anaconda3\\lib\\site-packages\\sklearn\\svm\\_base.py:985: ConvergenceWarning: Liblinear failed to converge, increase the number of iterations.\n",
      "  warnings.warn(\"Liblinear failed to converge, increase \"\n",
      "C:\\Users\\richa\\anaconda3\\lib\\site-packages\\sklearn\\svm\\_base.py:985: ConvergenceWarning: Liblinear failed to converge, increase the number of iterations.\n",
      "  warnings.warn(\"Liblinear failed to converge, increase \"\n",
      "C:\\Users\\richa\\anaconda3\\lib\\site-packages\\sklearn\\svm\\_base.py:985: ConvergenceWarning: Liblinear failed to converge, increase the number of iterations.\n",
      "  warnings.warn(\"Liblinear failed to converge, increase \"\n",
      "C:\\Users\\richa\\anaconda3\\lib\\site-packages\\sklearn\\svm\\_base.py:985: ConvergenceWarning: Liblinear failed to converge, increase the number of iterations.\n",
      "  warnings.warn(\"Liblinear failed to converge, increase \"\n",
      "C:\\Users\\richa\\anaconda3\\lib\\site-packages\\sklearn\\svm\\_base.py:985: ConvergenceWarning: Liblinear failed to converge, increase the number of iterations.\n",
      "  warnings.warn(\"Liblinear failed to converge, increase \"\n"
     ]
    },
    {
     "name": "stderr",
     "output_type": "stream",
     "text": [
      "C:\\Users\\richa\\anaconda3\\lib\\site-packages\\sklearn\\svm\\_base.py:985: ConvergenceWarning: Liblinear failed to converge, increase the number of iterations.\n",
      "  warnings.warn(\"Liblinear failed to converge, increase \"\n",
      "C:\\Users\\richa\\anaconda3\\lib\\site-packages\\sklearn\\svm\\_base.py:985: ConvergenceWarning: Liblinear failed to converge, increase the number of iterations.\n",
      "  warnings.warn(\"Liblinear failed to converge, increase \"\n",
      "C:\\Users\\richa\\anaconda3\\lib\\site-packages\\sklearn\\svm\\_base.py:985: ConvergenceWarning: Liblinear failed to converge, increase the number of iterations.\n",
      "  warnings.warn(\"Liblinear failed to converge, increase \"\n",
      "C:\\Users\\richa\\anaconda3\\lib\\site-packages\\sklearn\\svm\\_base.py:985: ConvergenceWarning: Liblinear failed to converge, increase the number of iterations.\n",
      "  warnings.warn(\"Liblinear failed to converge, increase \"\n",
      "C:\\Users\\richa\\anaconda3\\lib\\site-packages\\sklearn\\svm\\_base.py:985: ConvergenceWarning: Liblinear failed to converge, increase the number of iterations.\n",
      "  warnings.warn(\"Liblinear failed to converge, increase \"\n",
      "C:\\Users\\richa\\anaconda3\\lib\\site-packages\\sklearn\\svm\\_base.py:985: ConvergenceWarning: Liblinear failed to converge, increase the number of iterations.\n",
      "  warnings.warn(\"Liblinear failed to converge, increase \"\n",
      "C:\\Users\\richa\\anaconda3\\lib\\site-packages\\sklearn\\svm\\_base.py:985: ConvergenceWarning: Liblinear failed to converge, increase the number of iterations.\n",
      "  warnings.warn(\"Liblinear failed to converge, increase \"\n",
      "C:\\Users\\richa\\anaconda3\\lib\\site-packages\\sklearn\\svm\\_base.py:985: ConvergenceWarning: Liblinear failed to converge, increase the number of iterations.\n",
      "  warnings.warn(\"Liblinear failed to converge, increase \"\n",
      "C:\\Users\\richa\\anaconda3\\lib\\site-packages\\sklearn\\svm\\_base.py:985: ConvergenceWarning: Liblinear failed to converge, increase the number of iterations.\n",
      "  warnings.warn(\"Liblinear failed to converge, increase \"\n",
      "C:\\Users\\richa\\anaconda3\\lib\\site-packages\\sklearn\\svm\\_base.py:985: ConvergenceWarning: Liblinear failed to converge, increase the number of iterations.\n",
      "  warnings.warn(\"Liblinear failed to converge, increase \"\n",
      "C:\\Users\\richa\\anaconda3\\lib\\site-packages\\sklearn\\svm\\_base.py:985: ConvergenceWarning: Liblinear failed to converge, increase the number of iterations.\n",
      "  warnings.warn(\"Liblinear failed to converge, increase \"\n",
      "C:\\Users\\richa\\anaconda3\\lib\\site-packages\\sklearn\\svm\\_base.py:985: ConvergenceWarning: Liblinear failed to converge, increase the number of iterations.\n",
      "  warnings.warn(\"Liblinear failed to converge, increase \"\n",
      "C:\\Users\\richa\\anaconda3\\lib\\site-packages\\sklearn\\svm\\_base.py:985: ConvergenceWarning: Liblinear failed to converge, increase the number of iterations.\n",
      "  warnings.warn(\"Liblinear failed to converge, increase \"\n",
      "C:\\Users\\richa\\anaconda3\\lib\\site-packages\\sklearn\\svm\\_base.py:985: ConvergenceWarning: Liblinear failed to converge, increase the number of iterations.\n",
      "  warnings.warn(\"Liblinear failed to converge, increase \"\n",
      "C:\\Users\\richa\\anaconda3\\lib\\site-packages\\sklearn\\svm\\_base.py:985: ConvergenceWarning: Liblinear failed to converge, increase the number of iterations.\n",
      "  warnings.warn(\"Liblinear failed to converge, increase \"\n",
      "C:\\Users\\richa\\anaconda3\\lib\\site-packages\\sklearn\\svm\\_base.py:985: ConvergenceWarning: Liblinear failed to converge, increase the number of iterations.\n",
      "  warnings.warn(\"Liblinear failed to converge, increase \"\n",
      "C:\\Users\\richa\\anaconda3\\lib\\site-packages\\sklearn\\svm\\_base.py:985: ConvergenceWarning: Liblinear failed to converge, increase the number of iterations.\n",
      "  warnings.warn(\"Liblinear failed to converge, increase \"\n",
      "C:\\Users\\richa\\anaconda3\\lib\\site-packages\\sklearn\\svm\\_base.py:985: ConvergenceWarning: Liblinear failed to converge, increase the number of iterations.\n",
      "  warnings.warn(\"Liblinear failed to converge, increase \"\n",
      "C:\\Users\\richa\\anaconda3\\lib\\site-packages\\sklearn\\svm\\_base.py:985: ConvergenceWarning: Liblinear failed to converge, increase the number of iterations.\n",
      "  warnings.warn(\"Liblinear failed to converge, increase \"\n",
      "C:\\Users\\richa\\anaconda3\\lib\\site-packages\\sklearn\\svm\\_base.py:985: ConvergenceWarning: Liblinear failed to converge, increase the number of iterations.\n",
      "  warnings.warn(\"Liblinear failed to converge, increase \"\n",
      "C:\\Users\\richa\\anaconda3\\lib\\site-packages\\sklearn\\svm\\_base.py:985: ConvergenceWarning: Liblinear failed to converge, increase the number of iterations.\n",
      "  warnings.warn(\"Liblinear failed to converge, increase \"\n",
      "C:\\Users\\richa\\anaconda3\\lib\\site-packages\\sklearn\\svm\\_base.py:985: ConvergenceWarning: Liblinear failed to converge, increase the number of iterations.\n",
      "  warnings.warn(\"Liblinear failed to converge, increase \"\n",
      "C:\\Users\\richa\\anaconda3\\lib\\site-packages\\sklearn\\svm\\_base.py:985: ConvergenceWarning: Liblinear failed to converge, increase the number of iterations.\n",
      "  warnings.warn(\"Liblinear failed to converge, increase \"\n",
      "C:\\Users\\richa\\anaconda3\\lib\\site-packages\\sklearn\\svm\\_base.py:985: ConvergenceWarning: Liblinear failed to converge, increase the number of iterations.\n",
      "  warnings.warn(\"Liblinear failed to converge, increase \"\n",
      "C:\\Users\\richa\\anaconda3\\lib\\site-packages\\sklearn\\svm\\_base.py:985: ConvergenceWarning: Liblinear failed to converge, increase the number of iterations.\n",
      "  warnings.warn(\"Liblinear failed to converge, increase \"\n",
      "C:\\Users\\richa\\anaconda3\\lib\\site-packages\\sklearn\\svm\\_base.py:985: ConvergenceWarning: Liblinear failed to converge, increase the number of iterations.\n",
      "  warnings.warn(\"Liblinear failed to converge, increase \"\n",
      "C:\\Users\\richa\\anaconda3\\lib\\site-packages\\sklearn\\svm\\_base.py:985: ConvergenceWarning: Liblinear failed to converge, increase the number of iterations.\n",
      "  warnings.warn(\"Liblinear failed to converge, increase \"\n",
      "C:\\Users\\richa\\anaconda3\\lib\\site-packages\\sklearn\\svm\\_base.py:985: ConvergenceWarning: Liblinear failed to converge, increase the number of iterations.\n",
      "  warnings.warn(\"Liblinear failed to converge, increase \"\n",
      "C:\\Users\\richa\\anaconda3\\lib\\site-packages\\sklearn\\svm\\_base.py:985: ConvergenceWarning: Liblinear failed to converge, increase the number of iterations.\n",
      "  warnings.warn(\"Liblinear failed to converge, increase \"\n",
      "C:\\Users\\richa\\anaconda3\\lib\\site-packages\\sklearn\\svm\\_base.py:985: ConvergenceWarning: Liblinear failed to converge, increase the number of iterations.\n",
      "  warnings.warn(\"Liblinear failed to converge, increase \"\n",
      "C:\\Users\\richa\\anaconda3\\lib\\site-packages\\sklearn\\svm\\_base.py:985: ConvergenceWarning: Liblinear failed to converge, increase the number of iterations.\n",
      "  warnings.warn(\"Liblinear failed to converge, increase \"\n",
      "C:\\Users\\richa\\anaconda3\\lib\\site-packages\\sklearn\\svm\\_base.py:985: ConvergenceWarning: Liblinear failed to converge, increase the number of iterations.\n",
      "  warnings.warn(\"Liblinear failed to converge, increase \"\n",
      "C:\\Users\\richa\\anaconda3\\lib\\site-packages\\sklearn\\svm\\_base.py:985: ConvergenceWarning: Liblinear failed to converge, increase the number of iterations.\n",
      "  warnings.warn(\"Liblinear failed to converge, increase \"\n",
      "C:\\Users\\richa\\anaconda3\\lib\\site-packages\\sklearn\\svm\\_base.py:985: ConvergenceWarning: Liblinear failed to converge, increase the number of iterations.\n",
      "  warnings.warn(\"Liblinear failed to converge, increase \"\n",
      "C:\\Users\\richa\\anaconda3\\lib\\site-packages\\sklearn\\svm\\_base.py:985: ConvergenceWarning: Liblinear failed to converge, increase the number of iterations.\n",
      "  warnings.warn(\"Liblinear failed to converge, increase \"\n",
      "C:\\Users\\richa\\anaconda3\\lib\\site-packages\\sklearn\\svm\\_base.py:985: ConvergenceWarning: Liblinear failed to converge, increase the number of iterations.\n",
      "  warnings.warn(\"Liblinear failed to converge, increase \"\n",
      "C:\\Users\\richa\\anaconda3\\lib\\site-packages\\sklearn\\svm\\_base.py:985: ConvergenceWarning: Liblinear failed to converge, increase the number of iterations.\n",
      "  warnings.warn(\"Liblinear failed to converge, increase \"\n",
      "C:\\Users\\richa\\anaconda3\\lib\\site-packages\\sklearn\\svm\\_base.py:985: ConvergenceWarning: Liblinear failed to converge, increase the number of iterations.\n",
      "  warnings.warn(\"Liblinear failed to converge, increase \"\n",
      "C:\\Users\\richa\\anaconda3\\lib\\site-packages\\sklearn\\svm\\_base.py:985: ConvergenceWarning: Liblinear failed to converge, increase the number of iterations.\n",
      "  warnings.warn(\"Liblinear failed to converge, increase \"\n"
     ]
    },
    {
     "name": "stderr",
     "output_type": "stream",
     "text": [
      "C:\\Users\\richa\\anaconda3\\lib\\site-packages\\sklearn\\svm\\_base.py:985: ConvergenceWarning: Liblinear failed to converge, increase the number of iterations.\n",
      "  warnings.warn(\"Liblinear failed to converge, increase \"\n",
      "C:\\Users\\richa\\anaconda3\\lib\\site-packages\\sklearn\\svm\\_base.py:985: ConvergenceWarning: Liblinear failed to converge, increase the number of iterations.\n",
      "  warnings.warn(\"Liblinear failed to converge, increase \"\n"
     ]
    },
    {
     "name": "stdout",
     "output_type": "stream",
     "text": [
      "Took 57.24804067611694 seconds\n"
     ]
    },
    {
     "name": "stderr",
     "output_type": "stream",
     "text": [
      "C:\\Users\\richa\\anaconda3\\lib\\site-packages\\sklearn\\svm\\_base.py:985: ConvergenceWarning: Liblinear failed to converge, increase the number of iterations.\n",
      "  warnings.warn(\"Liblinear failed to converge, increase \"\n"
     ]
    }
   ],
   "source": [
    "from sklearn.svm import LinearSVC\n",
    "\n",
    "lsvm = LinearSVC()\n",
    "\n",
    "# specify the hyperparameters and their values\n",
    "# 4 x 1 x2 = 8 combinations in the grid \n",
    "# the parameters were selected after trial and error to give the best f-score\n",
    "param_grid = {\n",
    "    'C': [100, 500, 750, 1000],\n",
    "    'max_iter': [5000, 7000],\n",
    "    'random_state': [0,1]\n",
    "}\n",
    "\n",
    "# we'll use 5-fold cross-validation\n",
    "lsvm_grid_search = GridSearchCV(lsvm, param_grid, cv=5,\n",
    "                           scoring='f1_macro', \n",
    "                           return_train_score=True) \n",
    "\n",
    "start = time.time()\n",
    "lsvm_grid_search.fit(Xtrain, ytrain)\n",
    "end = time.time() - start\n",
    "print(f\"Took {end} seconds\")"
   ]
  },
  {
   "cell_type": "code",
   "execution_count": 100,
   "id": "5143fde0",
   "metadata": {},
   "outputs": [
    {
     "data": {
      "text/plain": [
       "LinearSVC(C=500, max_iter=7000, random_state=0)"
      ]
     },
     "execution_count": 100,
     "metadata": {},
     "output_type": "execute_result"
    }
   ],
   "source": [
    "lsvm_grid_search.best_estimator_"
   ]
  },
  {
   "cell_type": "code",
   "execution_count": 101,
   "id": "2df8b03c",
   "metadata": {},
   "outputs": [
    {
     "data": {
      "text/plain": [
       "0.5273027003580737"
      ]
     },
     "execution_count": 101,
     "metadata": {},
     "output_type": "execute_result"
    }
   ],
   "source": [
    "lsvm_grid_search.best_score_"
   ]
  },
  {
   "cell_type": "markdown",
   "id": "a7687769",
   "metadata": {},
   "source": [
    "The best model obtained has an f-score of 0.527 and the parameter settings for the model are C=500, max_iter=7000, and random_state=0."
   ]
  },
  {
   "cell_type": "code",
   "execution_count": 102,
   "id": "dd66a411",
   "metadata": {},
   "outputs": [
    {
     "name": "stdout",
     "output_type": "stream",
     "text": [
      "0.5273027003580737 0.5289579919488163 {'C': 500, 'max_iter': 7000, 'random_state': 0}\n",
      "0.5264829930514277 0.5318507082459742 {'C': 750, 'max_iter': 5000, 'random_state': 1}\n",
      "0.5222655266226505 0.5154649323421712 {'C': 750, 'max_iter': 7000, 'random_state': 0}\n",
      "0.5218352126911551 0.5167851702146562 {'C': 1000, 'max_iter': 7000, 'random_state': 0}\n",
      "0.5178941782499036 0.5236587989047667 {'C': 500, 'max_iter': 5000, 'random_state': 0}\n",
      "0.5167930552169058 0.5279899215827071 {'C': 1000, 'max_iter': 5000, 'random_state': 1}\n",
      "0.5152037585765183 0.512315581934226 {'C': 500, 'max_iter': 7000, 'random_state': 1}\n",
      "0.5116754262600616 0.50215964884754 {'C': 1000, 'max_iter': 7000, 'random_state': 1}\n",
      "0.5057884241856901 0.5178327448241824 {'C': 500, 'max_iter': 5000, 'random_state': 1}\n",
      "0.5018213252765377 0.5098516914073374 {'C': 750, 'max_iter': 7000, 'random_state': 1}\n",
      "0.5012879506951359 0.5071977632515788 {'C': 100, 'max_iter': 5000, 'random_state': 0}\n",
      "0.4963322079562394 0.4944700485450964 {'C': 100, 'max_iter': 7000, 'random_state': 0}\n",
      "0.4952721174813461 0.521995297955017 {'C': 1000, 'max_iter': 5000, 'random_state': 0}\n",
      "0.4925708251175484 0.500121197633949 {'C': 750, 'max_iter': 5000, 'random_state': 0}\n",
      "0.48751414792288406 0.48751411912318254 {'C': 100, 'max_iter': 7000, 'random_state': 1}\n",
      "0.48744979801058735 0.48870815482299773 {'C': 100, 'max_iter': 5000, 'random_state': 1}\n"
     ]
    }
   ],
   "source": [
    "val_scores = lsvm_grid_search.cv_results_[\"mean_test_score\"]\n",
    "train_scores = lsvm_grid_search.cv_results_[\"mean_train_score\"]\n",
    "params = [str(x) for x in lsvm_grid_search.cv_results_[\"params\"]]\n",
    "\n",
    "for val_score, train_score, param in sorted(zip(val_scores, train_scores, params), reverse=True):\n",
    "    print(val_score, train_score, param)"
   ]
  },
  {
   "cell_type": "markdown",
   "id": "f2f22d22",
   "metadata": {},
   "source": [
    "The f-scores for all the model combinations in the linear SVM are given above. it can be seen that for C values greater than 500, the models are slightly overfitting as the validation scores are less than that of the training scores."
   ]
  },
  {
   "cell_type": "markdown",
   "id": "c6717e8c",
   "metadata": {},
   "source": [
    "#### Radial Basis Function"
   ]
  },
  {
   "cell_type": "code",
   "execution_count": 103,
   "id": "630e9e96",
   "metadata": {},
   "outputs": [
    {
     "name": "stdout",
     "output_type": "stream",
     "text": [
      "Took 47.78862285614014 seconds\n"
     ]
    }
   ],
   "source": [
    "from sklearn.svm import SVC\n",
    "\n",
    "svm = SVC()\n",
    "\n",
    "# specify the hyperparameters and their values\n",
    "# 4 x 3 x 1 x 2 = 24 combinations in the grid\n",
    "param_grid = {\n",
    "    'C': [100, 500, 750, 1000],\n",
    "    'gamma': [\"scale\", \"auto\", 0.1],\n",
    "    'kernel': [\"rbf\"],\n",
    "    'random_state': [0,1]\n",
    "}\n",
    "\n",
    "# we'll use 5-fold cross-validation\n",
    "rsvm_grid_search = GridSearchCV(svm, param_grid, cv=5,\n",
    "                           scoring='f1_macro', \n",
    "                           return_train_score=True) \n",
    "\n",
    "start = time.time()\n",
    "rsvm_grid_search.fit(Xtrain, ytrain)\n",
    "end = time.time() - start\n",
    "print(f\"Took {end} seconds\")"
   ]
  },
  {
   "cell_type": "code",
   "execution_count": 104,
   "id": "829ca28e",
   "metadata": {},
   "outputs": [
    {
     "data": {
      "text/plain": [
       "SVC(C=1000, gamma='auto', random_state=0)"
      ]
     },
     "execution_count": 104,
     "metadata": {},
     "output_type": "execute_result"
    }
   ],
   "source": [
    "rsvm_grid_search.best_estimator_"
   ]
  },
  {
   "cell_type": "code",
   "execution_count": 105,
   "id": "b270d2e7",
   "metadata": {},
   "outputs": [
    {
     "data": {
      "text/plain": [
       "0.5315384734144126"
      ]
     },
     "execution_count": 105,
     "metadata": {},
     "output_type": "execute_result"
    }
   ],
   "source": [
    "rsvm_grid_search.best_score_"
   ]
  },
  {
   "cell_type": "markdown",
   "id": "e291905b",
   "metadata": {},
   "source": [
    "The best model obtained has an f-score of 0.531 and the parameter settings for the model are C=1000, gamma='auto' and random_state=0."
   ]
  },
  {
   "cell_type": "code",
   "execution_count": 108,
   "id": "f3fb8288",
   "metadata": {},
   "outputs": [
    {
     "name": "stdout",
     "output_type": "stream",
     "text": [
      "0.5315384734144126 0.9122981270073725 {'C': 1000, 'gamma': 'auto', 'kernel': 'rbf', 'random_state': 1}\n",
      "0.5315384734144126 0.9122981270073725 {'C': 1000, 'gamma': 'auto', 'kernel': 'rbf', 'random_state': 0}\n",
      "0.5312313274298527 0.9033503378346623 {'C': 750, 'gamma': 'scale', 'kernel': 'rbf', 'random_state': 1}\n",
      "0.5312313274298527 0.9033503378346623 {'C': 750, 'gamma': 'scale', 'kernel': 'rbf', 'random_state': 0}\n",
      "0.5310540776147976 0.9033503378346623 {'C': 750, 'gamma': 'auto', 'kernel': 'rbf', 'random_state': 1}\n",
      "0.5310540776147976 0.9033503378346623 {'C': 750, 'gamma': 'auto', 'kernel': 'rbf', 'random_state': 0}\n",
      "0.529353537070205 0.9446747364380604 {'C': 1000, 'gamma': 0.1, 'kernel': 'rbf', 'random_state': 1}\n",
      "0.529353537070205 0.9446747364380604 {'C': 1000, 'gamma': 0.1, 'kernel': 'rbf', 'random_state': 0}\n",
      "0.5290927361094075 0.9122981270073725 {'C': 1000, 'gamma': 'scale', 'kernel': 'rbf', 'random_state': 1}\n",
      "0.5290927361094075 0.9122981270073725 {'C': 1000, 'gamma': 'scale', 'kernel': 'rbf', 'random_state': 0}\n",
      "0.5276595958650965 0.9278386235489442 {'C': 500, 'gamma': 0.1, 'kernel': 'rbf', 'random_state': 1}\n",
      "0.5276595958650965 0.9278386235489442 {'C': 500, 'gamma': 0.1, 'kernel': 'rbf', 'random_state': 0}\n",
      "0.5261916055974967 0.9381718241341364 {'C': 750, 'gamma': 0.1, 'kernel': 'rbf', 'random_state': 1}\n",
      "0.5261916055974967 0.9381718241341364 {'C': 750, 'gamma': 0.1, 'kernel': 'rbf', 'random_state': 0}\n",
      "0.5251878280153135 0.8900261578078524 {'C': 500, 'gamma': 'scale', 'kernel': 'rbf', 'random_state': 1}\n",
      "0.5251878280153135 0.8900261578078524 {'C': 500, 'gamma': 'scale', 'kernel': 'rbf', 'random_state': 0}\n",
      "0.5250837865070089 0.8900452310802056 {'C': 500, 'gamma': 'auto', 'kernel': 'rbf', 'random_state': 1}\n",
      "0.5250837865070089 0.8900452310802056 {'C': 500, 'gamma': 'auto', 'kernel': 'rbf', 'random_state': 0}\n",
      "0.5203806707535567 0.8701383044505295 {'C': 100, 'gamma': 0.1, 'kernel': 'rbf', 'random_state': 1}\n",
      "0.5203806707535567 0.8701383044505295 {'C': 100, 'gamma': 0.1, 'kernel': 'rbf', 'random_state': 0}\n",
      "0.5181753960875163 0.8018873985846364 {'C': 100, 'gamma': 'auto', 'kernel': 'rbf', 'random_state': 1}\n",
      "0.5181753960875163 0.8018873985846364 {'C': 100, 'gamma': 'auto', 'kernel': 'rbf', 'random_state': 0}\n",
      "0.517966362124189 0.8024574472970529 {'C': 100, 'gamma': 'scale', 'kernel': 'rbf', 'random_state': 1}\n",
      "0.517966362124189 0.8024574472970529 {'C': 100, 'gamma': 'scale', 'kernel': 'rbf', 'random_state': 0}\n"
     ]
    }
   ],
   "source": [
    "val_scores = rsvm_grid_search.cv_results_[\"mean_test_score\"]\n",
    "train_scores = rsvm_grid_search.cv_results_[\"mean_train_score\"]\n",
    "params = [str(x) for x in rsvm_grid_search.cv_results_[\"params\"]]\n",
    "\n",
    "for val_score, train_score, param in sorted(zip(val_scores, train_scores, params), reverse=True):\n",
    "    print(val_score, train_score, param)"
   ]
  },
  {
   "cell_type": "markdown",
   "id": "cf47e8fd",
   "metadata": {},
   "source": [
    "The f-scores for all the model combinations in the rbf SVM are given above. it can be seen that every model is overfitting as the f scores obtained in the training set is very high compared to the scores obtained during validation. It can be seen that the best scores are obtained at the highest C values."
   ]
  },
  {
   "cell_type": "markdown",
   "id": "a672aa24",
   "metadata": {},
   "source": [
    "#### Polynomial SVM"
   ]
  },
  {
   "cell_type": "code",
   "execution_count": 119,
   "id": "39c578e5",
   "metadata": {},
   "outputs": [
    {
     "name": "stdout",
     "output_type": "stream",
     "text": [
      "Took 120.7917902469635 seconds\n"
     ]
    }
   ],
   "source": [
    "from sklearn.svm import SVC\n",
    "\n",
    "svm_poly = SVC(kernel=\"poly\")\n",
    "\n",
    "# specify the hyperparameters and their values\n",
    "# 6 x 3 = 18 combinations in the grid\n",
    "param_grid = {\n",
    "    'C': [500, 750, 1000],\n",
    "    'gamma': [\"auto\"],\n",
    "    'random_state': [0,1],\n",
    "}\n",
    "\n",
    "# we'll use 5-fold cross-validation\n",
    "psvm_grid_search = GridSearchCV(svm_poly, param_grid, cv=5,\n",
    "                           scoring='f1_macro', \n",
    "                           return_train_score=True) \n",
    "\n",
    "start = time.time()\n",
    "psvm_grid_search.fit(Xtrain, ytrain)\n",
    "end = time.time() - start\n",
    "print(f\"Took {end} seconds\")"
   ]
  },
  {
   "cell_type": "code",
   "execution_count": 120,
   "id": "0603666e",
   "metadata": {},
   "outputs": [
    {
     "data": {
      "text/plain": [
       "SVC(C=750, gamma='auto', kernel='poly', random_state=0)"
      ]
     },
     "execution_count": 120,
     "metadata": {},
     "output_type": "execute_result"
    }
   ],
   "source": [
    "psvm_grid_search.best_estimator_"
   ]
  },
  {
   "cell_type": "code",
   "execution_count": 121,
   "id": "f273250c",
   "metadata": {},
   "outputs": [
    {
     "data": {
      "text/plain": [
       "0.5265692530855564"
      ]
     },
     "execution_count": 121,
     "metadata": {},
     "output_type": "execute_result"
    }
   ],
   "source": [
    "psvm_grid_search.best_score_"
   ]
  },
  {
   "cell_type": "markdown",
   "id": "d3f9ef86",
   "metadata": {},
   "source": [
    "The best polynomial SVC model has an f-score of 0.526 with C = 750, gamma='auto', kernel='poly', random_state=0."
   ]
  },
  {
   "cell_type": "code",
   "execution_count": 122,
   "id": "1a53c3a5",
   "metadata": {},
   "outputs": [
    {
     "name": "stdout",
     "output_type": "stream",
     "text": [
      "0.5265692530855564 0.791964153686107 {'C': 750, 'gamma': 'auto', 'random_state': 1}\n",
      "0.5265692530855564 0.791964153686107 {'C': 750, 'gamma': 'auto', 'random_state': 0}\n",
      "0.5245496805851347 0.8002608379974262 {'C': 1000, 'gamma': 'auto', 'random_state': 1}\n",
      "0.5245496805851347 0.8002608379974262 {'C': 1000, 'gamma': 'auto', 'random_state': 0}\n",
      "0.5201349924274624 0.7723205474442929 {'C': 500, 'gamma': 'auto', 'random_state': 1}\n",
      "0.5201349924274624 0.7723205474442929 {'C': 500, 'gamma': 'auto', 'random_state': 0}\n"
     ]
    }
   ],
   "source": [
    "val_scores = psvm_grid_search.cv_results_[\"mean_test_score\"]\n",
    "train_scores = psvm_grid_search.cv_results_[\"mean_train_score\"]\n",
    "params = [str(x) for x in psvm_grid_search.cv_results_[\"params\"]]\n",
    "\n",
    "for val_score, train_score, param in sorted(zip(val_scores, train_scores, params), reverse=True):\n",
    "    print(val_score, train_score, param)"
   ]
  },
  {
   "cell_type": "markdown",
   "id": "9e681fd6",
   "metadata": {},
   "source": [
    "We can see validation and training f-scores for all the model combinations. The results show clear evidence of overfitting as every model shows high training scores than the validation scores."
   ]
  },
  {
   "cell_type": "markdown",
   "id": "2f4cb66b",
   "metadata": {},
   "source": [
    "The rbf SVM is the best model within the SVM models. So we are saving the rbf SVM model for further use"
   ]
  },
  {
   "cell_type": "code",
   "execution_count": 134,
   "id": "a93d4d25",
   "metadata": {},
   "outputs": [
    {
     "data": {
      "text/plain": [
       "['models/svm-rbf-stroke.joblib']"
      ]
     },
     "execution_count": 134,
     "metadata": {},
     "output_type": "execute_result"
    }
   ],
   "source": [
    "\n",
    "import os\n",
    "from joblib import dump\n",
    "\n",
    "# create a folder where all trained models will be kept\n",
    "if not os.path.exists(\"models\"):\n",
    "    os.makedirs(\"models\")\n",
    "    \n",
    "dump(rsvm_grid_search.best_estimator_, 'models/svm-rbf-stroke.joblib')"
   ]
  },
  {
   "cell_type": "markdown",
   "id": "69f44c33",
   "metadata": {},
   "source": [
    "The f-scores of the random forest model and SVM model are close. Therefore, a significance test is done in order to decide whether there is a significant difference between the models."
   ]
  },
  {
   "cell_type": "code",
   "execution_count": 135,
   "id": "61ebfb99",
   "metadata": {},
   "outputs": [],
   "source": [
    "# the values for the rbf SVM is choosen here since it is the best within SVM models\n",
    "# obtain the f-scores of the best models in each split\n",
    "\n",
    "svmrbf_split_test_scores = []\n",
    "for x in range(5):\n",
    "    # extract f-score of the best model (at index=0) from each of the 5 splits\n",
    "    val = rsvm_grid_search.cv_results_[f\"split{x}_test_score\"][0]\n",
    "    svmrbf_split_test_scores.append(val)"
   ]
  },
  {
   "cell_type": "code",
   "execution_count": 136,
   "id": "41c4ef20",
   "metadata": {},
   "outputs": [
    {
     "data": {
      "text/plain": [
       "Ttest_indResult(statistic=-0.6779345259999697, pvalue=0.5169373517917911)"
      ]
     },
     "execution_count": 136,
     "metadata": {},
     "output_type": "execute_result"
    }
   ],
   "source": [
    "# Performing the t test\n",
    "# return the t-score and a two-tailed p-value\n",
    "from scipy.stats import ttest_ind\n",
    "ttest_ind(rf_split_test_scores, svmrbf_split_test_scores)"
   ]
  },
  {
   "cell_type": "markdown",
   "id": "19edf397",
   "metadata": {},
   "source": [
    "The p-value of the t-test is 0.5, which is greater than the significance level of 0.05. This indicates that there is no significant difference between the Random forest model and rbf SVM model."
   ]
  },
  {
   "cell_type": "markdown",
   "id": "3e2cf1b9",
   "metadata": {},
   "source": [
    "## Balancing in python - Oversampling"
   ]
  },
  {
   "cell_type": "markdown",
   "id": "fdc45eb6",
   "metadata": {},
   "source": [
    "The dataset is imbalanced. therefore oversampling is applied to balance the data and then the best model found - rbf SVM is applied to the balanced data"
   ]
  },
  {
   "cell_type": "code",
   "execution_count": 137,
   "id": "07638d15",
   "metadata": {},
   "outputs": [],
   "source": [
    "# importing librares for oversampling and logistic regression\n",
    "from imblearn.pipeline import Pipeline\n",
    "from imblearn.over_sampling import SMOTE\n",
    "from sklearn.linear_model import LogisticRegression"
   ]
  },
  {
   "cell_type": "code",
   "execution_count": 142,
   "id": "1ef8d6e4",
   "metadata": {},
   "outputs": [
    {
     "name": "stdout",
     "output_type": "stream",
     "text": [
      "Took 1912.6630613803864 seconds\n"
     ]
    }
   ],
   "source": [
    "# Performing the best oversampling and then applying the rbf SVM model\n",
    "pipeline = Pipeline([\n",
    "        ('smote', SMOTE()),\n",
    "        ('svm', SVC())\n",
    "    ])\n",
    "\n",
    "param_grid = [\n",
    "    {\n",
    "        'smote__sampling_strategy': [0.5, 0.75, 1.0],\n",
    "        'svm__C': [100, 500, 750, 1000],\n",
    "        'svm__gamma': [\"scale\", \"auto\", 0.1],\n",
    "        'svm__kernel': [\"rbf\"],\n",
    "        'svm__random_state': [0,1]\n",
    "        \n",
    "    },\n",
    "]\n",
    "\n",
    "\n",
    "# we'll use 5-fold cross-validation\n",
    "svm_grid_search = GridSearchCV(pipeline, param_grid, cv=5, \n",
    "                              scoring='f1_macro',\n",
    "                              return_train_score=True)\n",
    "\n",
    "svm_grid_search.fit(Xtrain, ytrain)\n",
    "\n",
    "start = time.time()\n",
    "svm_grid_search.fit(Xtrain, ytrain)\n",
    "end = time.time() - start\n",
    "print(f\"Took {end} seconds\")"
   ]
  },
  {
   "cell_type": "code",
   "execution_count": 143,
   "id": "75a3ef85",
   "metadata": {},
   "outputs": [
    {
     "data": {
      "text/plain": [
       "Pipeline(steps=[('smote', SMOTE(sampling_strategy=0.5)),\n",
       "                ('svm', SVC(C=100, random_state=1))])"
      ]
     },
     "execution_count": 143,
     "metadata": {},
     "output_type": "execute_result"
    }
   ],
   "source": [
    "svm_grid_search.best_estimator_"
   ]
  },
  {
   "cell_type": "code",
   "execution_count": 144,
   "id": "870918ba",
   "metadata": {},
   "outputs": [
    {
     "data": {
      "text/plain": [
       "0.5445105879316027"
      ]
     },
     "execution_count": 144,
     "metadata": {},
     "output_type": "execute_result"
    }
   ],
   "source": [
    "svm_grid_search.best_score_"
   ]
  },
  {
   "cell_type": "markdown",
   "id": "80a83685",
   "metadata": {},
   "source": [
    "The f-score obtained for the best model is 0.544 with oversampling with a sampling strategy = 0.5 and SVM parameters C= 100 and random_state=1.\n",
    "\n",
    "We can see that even after balancing the data, there is no significant increase in the model's f-score."
   ]
  },
  {
   "cell_type": "code",
   "execution_count": 145,
   "id": "49919169",
   "metadata": {},
   "outputs": [
    {
     "data": {
      "text/plain": [
       "['models/svm-bal-stroke.joblib']"
      ]
     },
     "execution_count": 145,
     "metadata": {},
     "output_type": "execute_result"
    }
   ],
   "source": [
    "# Saving the balanced SVM model\n",
    "\n",
    "import os\n",
    "from joblib import dump\n",
    "\n",
    "# create a folder where all trained models will be kept\n",
    "if not os.path.exists(\"models\"):\n",
    "    os.makedirs(\"models\")\n",
    "    \n",
    "dump(svm_grid_search.best_estimator_, 'models/svm-bal-stroke.joblib')"
   ]
  },
  {
   "cell_type": "markdown",
   "id": "b6ed4742",
   "metadata": {},
   "source": [
    "### Model 4. Logistic regression"
   ]
  },
  {
   "cell_type": "code",
   "execution_count": 126,
   "id": "0165729c",
   "metadata": {},
   "outputs": [
    {
     "name": "stdout",
     "output_type": "stream",
     "text": [
      "Took 2.717388868331909 seconds\n"
     ]
    }
   ],
   "source": [
    "\n",
    "\n",
    "pipeline = Pipeline([\n",
    "        ('smote', SMOTE()),\n",
    "        ('log', LogisticRegression(random_state=42))\n",
    "    ])\n",
    "\n",
    "param_grid = [\n",
    "    {\n",
    "        'smote__sampling_strategy': [0.5, 0.75, 1.0, 'auto'],\n",
    "        'log__C': [100, 500, 750, 1000],\n",
    "    },\n",
    "]\n",
    "\n",
    "\n",
    "# we'll use 5-fold cross-validation\n",
    "ls_grid_search = GridSearchCV(pipeline, param_grid, cv=5, \n",
    "                              scoring='f1_macro',\n",
    "                              return_train_score=True)\n",
    "\n",
    "ls_grid_search.fit(Xtrain, ytrain)\n",
    "\n",
    "start = time.time()\n",
    "ls_grid_search.fit(Xtrain, ytrain)\n",
    "end = time.time() - start\n",
    "print(f\"Took {end} seconds\")"
   ]
  },
  {
   "cell_type": "code",
   "execution_count": 127,
   "id": "13b030d2",
   "metadata": {
    "scrolled": true
   },
   "outputs": [
    {
     "data": {
      "text/plain": [
       "Pipeline(steps=[('smote', SMOTE(sampling_strategy=0.5)),\n",
       "                ('log', LogisticRegression(C=500, random_state=42))])"
      ]
     },
     "execution_count": 127,
     "metadata": {},
     "output_type": "execute_result"
    }
   ],
   "source": [
    "ls_grid_search.best_estimator_"
   ]
  },
  {
   "cell_type": "code",
   "execution_count": 128,
   "id": "ae49149a",
   "metadata": {},
   "outputs": [
    {
     "data": {
      "text/plain": [
       "0.5767052889122333"
      ]
     },
     "execution_count": 128,
     "metadata": {},
     "output_type": "execute_result"
    }
   ],
   "source": [
    "ls_grid_search.best_score_"
   ]
  },
  {
   "cell_type": "markdown",
   "id": "64d102ea",
   "metadata": {},
   "source": [
    "We can see that the best model obtained by the logistic regression method after balancing the data has an f-score of 0.577 with logistic regression parameters as  C=500 and random_state=42 and with a sampling strategy of 0.5."
   ]
  },
  {
   "cell_type": "code",
   "execution_count": 146,
   "id": "a720e868",
   "metadata": {},
   "outputs": [
    {
     "data": {
      "text/plain": [
       "['models/ls-bal-stroke.joblib']"
      ]
     },
     "execution_count": 146,
     "metadata": {},
     "output_type": "execute_result"
    }
   ],
   "source": [
    "# Saving the balanced Logistic regression model\n",
    "\n",
    "import os\n",
    "from joblib import dump\n",
    "\n",
    "# create a folder where all trained models will be kept\n",
    "if not os.path.exists(\"models\"):\n",
    "    os.makedirs(\"models\")\n",
    "    \n",
    "dump(ls_grid_search.best_estimator_, 'models/ls-bal-stroke.joblib')"
   ]
  },
  {
   "cell_type": "markdown",
   "id": "348de617",
   "metadata": {},
   "source": [
    "## Testing best models"
   ]
  },
  {
   "cell_type": "markdown",
   "id": "6558cc34",
   "metadata": {},
   "source": [
    "All four models are now tested on the test set to find out the best models to use."
   ]
  },
  {
   "cell_type": "code",
   "execution_count": 149,
   "id": "25b1677e",
   "metadata": {},
   "outputs": [],
   "source": [
    "# importing all the models\n",
    "from joblib import load\n",
    "\n",
    "best_rf = load(\"models/rf-stroke.joblib\")\n",
    "best_svm = load(\"models/svm-rbf-stroke.joblib\")\n",
    "best_bal_svm = load('models/svm-bal-stroke.joblib')\n",
    "best_bal_ls = load('models/ls-bal-stroke.joblib')"
   ]
  },
  {
   "cell_type": "code",
   "execution_count": 150,
   "id": "e47a07f9",
   "metadata": {},
   "outputs": [],
   "source": [
    "# drop labels for training set, but keep all others\n",
    "Xtest = testset.drop('stroke', axis=1)\n",
    "ytest = testset['stroke'].copy()"
   ]
  },
  {
   "cell_type": "markdown",
   "id": "421fa39c",
   "metadata": {},
   "source": [
    "### 1. Testing Random Forest model"
   ]
  },
  {
   "cell_type": "code",
   "execution_count": 151,
   "id": "fcf16a94",
   "metadata": {},
   "outputs": [
    {
     "name": "stdout",
     "output_type": "stream",
     "text": [
      "Random Forest:\n",
      "Precision: 0.6430213464696223\n",
      "Recall: 0.5179402677651905\n",
      "F score: 0.5226226442238527\n"
     ]
    }
   ],
   "source": [
    "from sklearn.metrics import precision_recall_fscore_support\n",
    "\n",
    "# rf\n",
    "yhat = best_rf.predict(Xtest)\n",
    "\n",
    "# micro-averaged precision, recall and f-score\n",
    "p, r, f, s = precision_recall_fscore_support(ytest, yhat, average=\"macro\")\n",
    "print(\"Random Forest:\")\n",
    "print(f\"Precision: {p}\")\n",
    "print(f\"Recall: {r}\")\n",
    "print(f\"F score: {f}\")"
   ]
  },
  {
   "cell_type": "code",
   "execution_count": 154,
   "id": "896b4620",
   "metadata": {},
   "outputs": [
    {
     "data": {
      "text/plain": [
       "<sklearn.metrics._plot.confusion_matrix.ConfusionMatrixDisplay at 0x1c58f0d4dc0>"
      ]
     },
     "execution_count": 154,
     "metadata": {},
     "output_type": "execute_result"
    },
    {
     "data": {
      "image/png": "[encoded data removed]",
      "text/plain": [
       "<Figure size 432x288 with 2 Axes>"
      ]
     },
     "metadata": {
      "needs_background": "light"
     },
     "output_type": "display_data"
    }
   ],
   "source": [
    "from sklearn.metrics import plot_confusion_matrix\n",
    "\n",
    "plot_confusion_matrix(rf_grid_search.best_estimator_, Xtest, ytest,\n",
    "                                 display_labels=[\"no\", \"yes\"],\n",
    "                                 cmap=plt.cm.Blues,\n",
    "                                 normalize='true')"
   ]
  },
  {
   "cell_type": "markdown",
   "id": "66b86aeb",
   "metadata": {},
   "source": [
    "### 2. Testing SVM model"
   ]
  },
  {
   "cell_type": "code",
   "execution_count": 155,
   "id": "a1f190ed",
   "metadata": {},
   "outputs": [
    {
     "name": "stdout",
     "output_type": "stream",
     "text": [
      "SVM:\n",
      "Precision: 0.5398895169578624\n",
      "Recall: 0.5383728115345006\n",
      "F score: 0.5391051482321323\n"
     ]
    }
   ],
   "source": [
    "# svm\n",
    "yhat = best_svm.predict(Xtest)\n",
    "\n",
    "# micro-averaged precision, recall and f-score\n",
    "p, r, f, s = precision_recall_fscore_support(ytest, yhat, average=\"macro\")\n",
    "print(\"SVM:\")\n",
    "print(f\"Precision: {p}\")\n",
    "print(f\"Recall: {r}\")\n",
    "print(f\"F score: {f}\")"
   ]
  },
  {
   "cell_type": "code",
   "execution_count": 156,
   "id": "a055053c",
   "metadata": {},
   "outputs": [
    {
     "data": {
      "text/plain": [
       "<sklearn.metrics._plot.confusion_matrix.ConfusionMatrixDisplay at 0x1c592b91280>"
      ]
     },
     "execution_count": 156,
     "metadata": {},
     "output_type": "execute_result"
    },
    {
     "data": {
      "image/png": "[encoded data removed]",
      "text/plain": [
       "<Figure size 432x288 with 2 Axes>"
      ]
     },
     "metadata": {
      "needs_background": "light"
     },
     "output_type": "display_data"
    }
   ],
   "source": [
    "from sklearn.metrics import plot_confusion_matrix\n",
    "\n",
    "plot_confusion_matrix(rsvm_grid_search.best_estimator_, Xtest, ytest,\n",
    "                                 display_labels=[\"no\", \"yes\"],\n",
    "                                 cmap=plt.cm.Blues,\n",
    "                                 normalize='true')"
   ]
  },
  {
   "cell_type": "markdown",
   "id": "42f0112e",
   "metadata": {},
   "source": [
    "### 3. Testing balanced SVM model"
   ]
  },
  {
   "cell_type": "code",
   "execution_count": 157,
   "id": "56be2e17",
   "metadata": {},
   "outputs": [
    {
     "name": "stdout",
     "output_type": "stream",
     "text": [
      "SVM:\n",
      "Precision: 0.539163503524644\n",
      "Recall: 0.556529351184346\n",
      "F score: 0.5449476941706751\n"
     ]
    }
   ],
   "source": [
    "# balanced svm\n",
    "yhat = best_bal_svm.predict(Xtest)\n",
    "\n",
    "# micro-averaged precision, recall and f-score\n",
    "p, r, f, s = precision_recall_fscore_support(ytest, yhat, average=\"macro\")\n",
    "print(\"SVM:\")\n",
    "print(f\"Precision: {p}\")\n",
    "print(f\"Recall: {r}\")\n",
    "print(f\"F score: {f}\")"
   ]
  },
  {
   "cell_type": "code",
   "execution_count": 158,
   "id": "0d704783",
   "metadata": {},
   "outputs": [
    {
     "data": {
      "text/plain": [
       "<sklearn.metrics._plot.confusion_matrix.ConfusionMatrixDisplay at 0x1c5966710d0>"
      ]
     },
     "execution_count": 158,
     "metadata": {},
     "output_type": "execute_result"
    },
    {
     "data": {
      "image/png": "[encoded data removed]",
      "text/plain": [
       "<Figure size 432x288 with 2 Axes>"
      ]
     },
     "metadata": {
      "needs_background": "light"
     },
     "output_type": "display_data"
    }
   ],
   "source": [
    "from sklearn.metrics import plot_confusion_matrix\n",
    "\n",
    "plot_confusion_matrix(svm_grid_search.best_estimator_, Xtest, ytest,\n",
    "                                 display_labels=[\"no\", \"yes\"],\n",
    "                                 cmap=plt.cm.Blues,\n",
    "                                 normalize='true')"
   ]
  },
  {
   "cell_type": "markdown",
   "id": "c8d3b39c",
   "metadata": {},
   "source": [
    "### 4. Balanced Logistic Regression Model"
   ]
  },
  {
   "cell_type": "code",
   "execution_count": 159,
   "id": "cab6f1f0",
   "metadata": {},
   "outputs": [
    {
     "name": "stdout",
     "output_type": "stream",
     "text": [
      "SVM:\n",
      "Precision: 0.5805619023440806\n",
      "Recall: 0.7745211122554068\n",
      "F score: 0.5925778132482044\n"
     ]
    }
   ],
   "source": [
    "# balanced logistic regression\n",
    "yhat = best_bal_ls.predict(Xtest)\n",
    "\n",
    "# micro-averaged precision, recall and f-score\n",
    "p, r, f, s = precision_recall_fscore_support(ytest, yhat, average=\"macro\")\n",
    "print(\"SVM:\")\n",
    "print(f\"Precision: {p}\")\n",
    "print(f\"Recall: {r}\")\n",
    "print(f\"F score: {f}\")"
   ]
  },
  {
   "cell_type": "code",
   "execution_count": 160,
   "id": "72731493",
   "metadata": {},
   "outputs": [
    {
     "data": {
      "text/plain": [
       "<sklearn.metrics._plot.confusion_matrix.ConfusionMatrixDisplay at 0x1c596849d30>"
      ]
     },
     "execution_count": 160,
     "metadata": {},
     "output_type": "execute_result"
    },
    {
     "data": {
      "image/png": "[encoded data removed]",
      "text/plain": [
       "<Figure size 432x288 with 2 Axes>"
      ]
     },
     "metadata": {
      "needs_background": "light"
     },
     "output_type": "display_data"
    }
   ],
   "source": [
    "from sklearn.metrics import plot_confusion_matrix\n",
    "\n",
    "plot_confusion_matrix(ls_grid_search.best_estimator_, Xtest, ytest,\n",
    "                                 display_labels=[\"no\", \"yes\"],\n",
    "                                 cmap=plt.cm.Blues,\n",
    "                                 normalize='true')"
   ]
  },
  {
   "cell_type": "markdown",
   "id": "a647345d",
   "metadata": {},
   "source": [
    "After checking the F-score, precision and recall, we can say that the logistic regression model made from the balanced data is showing the best performance out of all 4 models. The logistic regression model has a precision of 0.58, recall of 0.77 with an F-score of 0.59. \n",
    "Also from the confusion matrixes, we notice that the probability of correctly predicting a stroke case is only 0.04 for the random forest model, 0.12 for rbf-svm model, and 0.18 for svm model trained on balanced data. All three models fail in predicting true cases of stroke. The logistic regression model trained on balanced data shows the best performance with correctly predicting 0.72 per cent of true strokes cases. \n",
    "It is slightly concerning that 0.2 per cent of true stroke cases are wrongly predicted by this model. This can lead to bigger problems.\n"
   ]
  },
  {
   "cell_type": "markdown",
   "id": "0be83ea4",
   "metadata": {},
   "source": [
    "The accuracy of the models can be further improved by:\n",
    "1. Including more relevant predictors such as cholesterol levels, systolic and diastolic blood pressure etc. \n",
    "2. Increasing the number of data records available. Algorithms can learn and train better when there are enough data available.\n",
    "3. Applying feature engineering to some of the features and thus bringing in relevant ones\n",
    "4. Applying a more precise and detailed hyperparameter tuning for the models\n",
    "5. Also different models like C&R tree or artificial Neural network can be applied to the data and check if the performance improves.\n"
   ]
  },
  {
   "cell_type": "markdown",
   "id": "a91a44f4",
   "metadata": {},
   "source": [
    "The model can be used by stakeholders in the medical and pharmaceutical industries. The model can be used in the hospitals as additional support to the doctors and patients in detecting stroke. But care should be taken while using this model as there is a 28% chance that the model could give a wrong result for a stroke case. Also, medical insurance companies can use this analysis to promote plans directed specifically to different groups of customers."
   ]
  },
  {
   "cell_type": "code",
   "execution_count": null,
   "id": "961868f0",
   "metadata": {},
   "outputs": [],
   "source": []
  },
  {
   "cell_type": "markdown",
   "id": "f24b1b23",
   "metadata": {},
   "source": [
    "##### Checking the word count"
   ]
  },
  {
   "cell_type": "code",
   "execution_count": 161,
   "id": "b60c71b2",
   "metadata": {},
   "outputs": [
    {
     "data": {
      "application/javascript": [
       "var nb = IPython.notebook;\n",
       "var kernel = IPython.notebook.kernel;\n",
       "var command = \"NOTEBOOK_FULL_PATH = '\" + nb.notebook_path + \"'\";\n",
       "kernel.execute(command);\n"
      ],
      "text/plain": [
       "<IPython.core.display.Javascript object>"
      ]
     },
     "metadata": {},
     "output_type": "display_data"
    }
   ],
   "source": [
    "%%javascript\n",
    "var nb = IPython.notebook;\n",
    "var kernel = IPython.notebook.kernel;\n",
    "var command = \"NOTEBOOK_FULL_PATH = '\" + nb.notebook_path + \"'\";\n",
    "kernel.execute(command);"
   ]
  },
  {
   "cell_type": "code",
   "execution_count": 164,
   "id": "46c37e58",
   "metadata": {},
   "outputs": [
    {
     "name": "stdout",
     "output_type": "stream",
     "text": [
      "Word count: 1132\n"
     ]
    }
   ],
   "source": [
    "import io\n",
    "from nbformat import read, NO_CONVERT\n",
    "\n",
    "with io.open(NOTEBOOK_FULL_PATH.split(\"/\")[-1], 'r', encoding='utf-8') as f:\n",
    "    nb = read(f, NO_CONVERT)\n",
    "\n",
    "word_count = 0\n",
    "for cell in nb.cells:\n",
    "    if cell.cell_type == \"markdown\":\n",
    "        word_count += len(cell['source'].replace('#', '').lstrip().split(' '))\n",
    "print(f\"Word count: {word_count}\")"
   ]
  },
  {
   "cell_type": "markdown",
   "id": "b0228b25",
   "metadata": {},
   "source": []
  }
 ],
 "metadata": {
  "kernelspec": {
   "display_name": "Python 3",
   "language": "python",
   "name": "python3"
  },
  "language_info": {
   "codemirror_mode": {
    "name": "ipython",
    "version": 3
   },
   "file_extension": ".py",
   "mimetype": "text/x-python",
   "name": "python",
   "nbconvert_exporter": "python",
   "pygments_lexer": "ipython3",
   "version": "3.8.8"
  }
 },
 "nbformat": 4,
 "nbformat_minor": 5
}
